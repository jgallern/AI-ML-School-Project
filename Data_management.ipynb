{
 "cells": [
  {
   "cell_type": "markdown",
   "metadata": {},
   "source": [
    "# Pre-processed Data: Managing Missing Values\n",
    "\n",
    "To handle missing values in the dataset, you can use the following Python code:"
   ]
  },
  {
   "cell_type": "markdown",
   "metadata": {},
   "source": [
    "# Data Cleaning :\n",
    "Clean useless columns"
   ]
  },
  {
   "cell_type": "code",
   "execution_count": 75,
   "metadata": {},
   "outputs": [],
   "source": [
    "import pandas as pd\n",
    "import os\n",
    "\n",
    "file1 = os.path.join(\"datasets\", 'general_data.csv')\n",
    "df1 = pd.read_csv(file1)\n",
    "file2 = os.path.join(\"datasets\", 'employee_survey_data.csv')\n",
    "df2 = pd.read_csv(file2)\n",
    "file3 = os.path.join(\"datasets\", 'manager_survey_data.csv')\n",
    "df3 = pd.read_csv(file3)\n",
    "\n",
    "def delete_columns(df1):\n",
    "    delete_columns = ['EmployeeCount', 'Over18']  # Colonnes à supprimer\n",
    "    existing_columns = [col for col in delete_columns if col in df1.columns]\n",
    "    return df1.drop(columns=existing_columns)\n"
   ]
  },
  {
   "cell_type": "markdown",
   "metadata": {},
   "source": [
    "Transform non-numerical to numercial data :"
   ]
  },
  {
   "cell_type": "code",
   "execution_count": 76,
   "metadata": {},
   "outputs": [],
   "source": [
    "def non_numerical_columns(df1):\n",
    "    df1['Attrition'] = df1['Attrition'].map({'Yes': 1, 'No': 0, 0:0, 1:1})\n",
    "    df1['BusinessTravel'] = df1['BusinessTravel'].map({'Non-Travel': 0, 'Travel_Rarely': 1, 'Travel_Frequently': 2, 0:0, 1:1, 2:2})\n",
    "    df1['Department'] = df1['Department'].map({'Sales': 0, 'Research & Development': 1, 'Human Resources': 2, 0:0, 1:1, 2:2})\n",
    "    df1['EducationField'] = df1['EducationField'].map({'Life Sciences': 0, 'Medical': 1, 'Marketing': 2, 'Technical Degree': 3, 'Human Resources': 4, 'Other': 5, 0:0, 1:1, 2:2, 3:3, 4:4, 5:5})\n",
    "    df1['Gender'] = df1['Gender'].map({'Female': 0, 'Male': 1, 0:0, 1:1})\n",
    "    df1['JobRole'] = df1['JobRole'].map({'Sales Executive': 0, 'Research Scientist': 1, 'Laboratory Technician': 2, 'Manufacturing Director': 3, 'Healthcare Representative': 4, 'Manager': 5, 'Sales Representative': 6, 'Research Director': 7, 'Human Resources': 8, 0:0, 1:1, 2:2, 3:3, 4:4, 5:5, 6:6, 7:7, 8:8})\n",
    "    df1['MaritalStatus'] = df1['MaritalStatus'].map({'Single': 0, 'Married': 1, 'Divorced': 2, 0:0, 1:1, 2:2})\n",
    "    return df1"
   ]
  },
  {
   "cell_type": "markdown",
   "metadata": {},
   "source": [
    "Merge theses two codes"
   ]
  },
  {
   "cell_type": "code",
   "execution_count": 77,
   "metadata": {},
   "outputs": [
    {
     "name": "stdout",
     "output_type": "stream",
     "text": [
      "<class 'pandas.core.frame.DataFrame'>\n",
      "RangeIndex: 4410 entries, 0 to 4409\n",
      "Data columns (total 22 columns):\n",
      " #   Column                   Non-Null Count  Dtype  \n",
      "---  ------                   --------------  -----  \n",
      " 0   Age                      4410 non-null   int64  \n",
      " 1   Attrition                4410 non-null   int64  \n",
      " 2   BusinessTravel           4410 non-null   int64  \n",
      " 3   Department               4410 non-null   int64  \n",
      " 4   DistanceFromHome         4410 non-null   int64  \n",
      " 5   Education                4410 non-null   int64  \n",
      " 6   EducationField           4410 non-null   int64  \n",
      " 7   EmployeeID               4410 non-null   int64  \n",
      " 8   Gender                   4410 non-null   int64  \n",
      " 9   JobLevel                 4410 non-null   int64  \n",
      " 10  JobRole                  4410 non-null   int64  \n",
      " 11  MaritalStatus            4410 non-null   int64  \n",
      " 12  MonthlyIncome            4410 non-null   int64  \n",
      " 13  NumCompaniesWorked       4391 non-null   float64\n",
      " 14  PercentSalaryHike        4410 non-null   int64  \n",
      " 15  StandardHours            4410 non-null   int64  \n",
      " 16  StockOptionLevel         4410 non-null   int64  \n",
      " 17  TotalWorkingYears        4401 non-null   float64\n",
      " 18  TrainingTimesLastYear    4410 non-null   int64  \n",
      " 19  YearsAtCompany           4410 non-null   int64  \n",
      " 20  YearsSinceLastPromotion  4410 non-null   int64  \n",
      " 21  YearsWithCurrManager     4410 non-null   int64  \n",
      "dtypes: float64(2), int64(20)\n",
      "memory usage: 758.1 KB\n",
      "None\n"
     ]
    }
   ],
   "source": [
    "import pandas as pd\n",
    "import os\n",
    "\n",
    "def test_non_numerical_columns(df1):\n",
    "    df1 = delete_columns(df1)\n",
    "    df1 = non_numerical_columns(df1)\n",
    "    print(df1.info())\n",
    "    return df1\n",
    "\n",
    "df1 = test_non_numerical_columns(df1)"
   ]
  },
  {
   "cell_type": "markdown",
   "metadata": {},
   "source": [
    "# Categorization data to complet whole in data : Mode \n",
    "Check the data missing"
   ]
  },
  {
   "cell_type": "code",
   "execution_count": 78,
   "metadata": {},
   "outputs": [
    {
     "name": "stdout",
     "output_type": "stream",
     "text": [
      "Colonne: Age, Valeurs manquantes: 0 ,taux valuers manquantes: 0.0%\n",
      "Colonne: Attrition, Valeurs manquantes: 0 ,taux valuers manquantes: 0.0%\n",
      "Colonne: BusinessTravel, Valeurs manquantes: 0 ,taux valuers manquantes: 0.0%\n",
      "Colonne: Department, Valeurs manquantes: 0 ,taux valuers manquantes: 0.0%\n",
      "Colonne: DistanceFromHome, Valeurs manquantes: 0 ,taux valuers manquantes: 0.0%\n",
      "Colonne: Education, Valeurs manquantes: 0 ,taux valuers manquantes: 0.0%\n",
      "Colonne: EducationField, Valeurs manquantes: 0 ,taux valuers manquantes: 0.0%\n",
      "Colonne: EmployeeID, Valeurs manquantes: 0 ,taux valuers manquantes: 0.0%\n",
      "Colonne: Gender, Valeurs manquantes: 0 ,taux valuers manquantes: 0.0%\n",
      "Colonne: JobLevel, Valeurs manquantes: 0 ,taux valuers manquantes: 0.0%\n",
      "Colonne: JobRole, Valeurs manquantes: 0 ,taux valuers manquantes: 0.0%\n",
      "Colonne: MaritalStatus, Valeurs manquantes: 0 ,taux valuers manquantes: 0.0%\n",
      "Colonne: MonthlyIncome, Valeurs manquantes: 0 ,taux valuers manquantes: 0.0%\n",
      "Colonne: NumCompaniesWorked, Valeurs manquantes: 19 ,taux valuers manquantes: 0.43%\n",
      "Colonne: PercentSalaryHike, Valeurs manquantes: 0 ,taux valuers manquantes: 0.0%\n",
      "Colonne: StandardHours, Valeurs manquantes: 0 ,taux valuers manquantes: 0.0%\n",
      "Colonne: StockOptionLevel, Valeurs manquantes: 0 ,taux valuers manquantes: 0.0%\n",
      "Colonne: TotalWorkingYears, Valeurs manquantes: 9 ,taux valuers manquantes: 0.2%\n",
      "Colonne: TrainingTimesLastYear, Valeurs manquantes: 0 ,taux valuers manquantes: 0.0%\n",
      "Colonne: YearsAtCompany, Valeurs manquantes: 0 ,taux valuers manquantes: 0.0%\n",
      "Colonne: YearsSinceLastPromotion, Valeurs manquantes: 0 ,taux valuers manquantes: 0.0%\n",
      "Colonne: YearsWithCurrManager, Valeurs manquantes: 0 ,taux valuers manquantes: 0.0%\n"
     ]
    }
   ],
   "source": [
    "import pandas as pd\n",
    "import os\n",
    "\n",
    "for col in df1.columns:\n",
    "    print(f\"Colonne: {col}, Valeurs manquantes: {df1[col].isna().sum()} ,taux valuers manquantes: {round(df1[col].isna().sum()/len(df1[col])*100,2)}%\")\n",
    "\n"
   ]
  },
  {
   "cell_type": "markdown",
   "metadata": {},
   "source": [
    "Delete the columns if 40% of missing value, and filled missing value."
   ]
  },
  {
   "cell_type": "code",
   "execution_count": 79,
   "metadata": {},
   "outputs": [],
   "source": [
    "import pandas as pd\n",
    "\n",
    "def fill_missing_columns(df1):\n",
    "    # Suppression des colonnes avec plus de 'threshold' valeurs manquantes\n",
    "    missing_percentage = df1.isna().sum() / len(df1)\n",
    "    columns_to_drop = missing_percentage[missing_percentage > 0.4].index\n",
    "    print(f\"Colonnes supprimées (plus de {0.4*100}% de valeurs manquantes) : {list(columns_to_drop)}\")\n",
    "    df1 = df1.drop(columns=columns_to_drop)\n",
    "    \n",
    "    # Remplissage des valeurs manquantes avec le mode pour les colonnes restantes\n",
    "    for column in df1.columns:\n",
    "        if df1[column].isnull().sum() > 0:  # Vérifie s'il y a des valeurs manquantes\n",
    "            mode_value = df1[column].mode()[0]  # Récupère le mode de la colonne\n",
    "            df1[column].fillna(mode_value, inplace=True)  # Remplace les NaN par le mode  \n",
    "    return df1\n"
   ]
  },
  {
   "cell_type": "markdown",
   "metadata": {},
   "source": [
    "Test"
   ]
  },
  {
   "cell_type": "code",
   "execution_count": 80,
   "metadata": {},
   "outputs": [
    {
     "name": "stdout",
     "output_type": "stream",
     "text": [
      "Colonnes supprimées (plus de 40.0% de valeurs manquantes) : []\n",
      "   Age  Attrition  BusinessTravel  Department  DistanceFromHome  Education  \\\n",
      "0   51          0               1           0                 6          2   \n",
      "1   31          1               2           1                10          1   \n",
      "2   32          0               2           1                17          4   \n",
      "3   38          0               0           1                 2          5   \n",
      "4   32          0               1           1                10          1   \n",
      "\n",
      "   EducationField  EmployeeID  Gender  JobLevel  JobRole  MaritalStatus  \\\n",
      "0               0           1       0         1        4              1   \n",
      "1               0           2       0         1        1              0   \n",
      "2               5           3       1         4        0              1   \n",
      "3               0           4       1         3        8              1   \n",
      "4               1           5       1         1        0              0   \n",
      "\n",
      "   MonthlyIncome  NumCompaniesWorked  PercentSalaryHike  StandardHours  \\\n",
      "0         131160                 1.0                 11              8   \n",
      "1          41890                 0.0                 23              8   \n",
      "2         193280                 1.0                 15              8   \n",
      "3          83210                 3.0                 11              8   \n",
      "4          23420                 4.0                 12              8   \n",
      "\n",
      "   StockOptionLevel  TotalWorkingYears  TrainingTimesLastYear  YearsAtCompany  \\\n",
      "0                 0                1.0                      6               1   \n",
      "1                 1                6.0                      3               5   \n",
      "2                 3                5.0                      2               5   \n",
      "3                 3               13.0                      5               8   \n",
      "4                 2                9.0                      2               6   \n",
      "\n",
      "   YearsSinceLastPromotion  YearsWithCurrManager  \n",
      "0                        0                     0  \n",
      "1                        1                     4  \n",
      "2                        0                     3  \n",
      "3                        7                     5  \n",
      "4                        0                     4  \n"
     ]
    },
    {
     "name": "stderr",
     "output_type": "stream",
     "text": [
      "C:\\Users\\yusuf\\AppData\\Local\\Temp\\ipykernel_23260\\2484628854.py:14: FutureWarning: A value is trying to be set on a copy of a DataFrame or Series through chained assignment using an inplace method.\n",
      "The behavior will change in pandas 3.0. This inplace method will never work because the intermediate object on which we are setting values always behaves as a copy.\n",
      "\n",
      "For example, when doing 'df[col].method(value, inplace=True)', try using 'df.method({col: value}, inplace=True)' or df[col] = df[col].method(value) instead, to perform the operation inplace on the original object.\n",
      "\n",
      "\n",
      "  df1[column].fillna(mode_value, inplace=True)  # Remplace les NaN par le mode\n"
     ]
    }
   ],
   "source": [
    "import pandas as pd\n",
    "\n",
    "def Print_clean_df1(df1):\n",
    "    df1 = fill_missing_columns(df1)\n",
    "    pd.set_option('display.max_rows', None)  # Afficher toutes les lignes\n",
    "    pd.set_option('display.max_columns', None)  # Afficher toutes les colonnes\n",
    "\n",
    "    # Afficher toutes les données\n",
    "    print(df1.head())\n",
    "    return df1\n",
    "\n",
    "df1 = Print_clean_df1(df1)"
   ]
  },
  {
   "cell_type": "markdown",
   "metadata": {},
   "source": [
    "Cleaning employee_survey_data.csv"
   ]
  },
  {
   "cell_type": "code",
   "execution_count": 81,
   "metadata": {},
   "outputs": [
    {
     "name": "stdout",
     "output_type": "stream",
     "text": [
      "Colonne: EmployeeID, Valeurs manquantes: 0 ,taux valeurs manquantes: 0.0%\n",
      "Colonne: EnvironmentSatisfaction, Valeurs manquantes: 25 ,taux valeurs manquantes: 0.57%\n",
      "Colonne: JobSatisfaction, Valeurs manquantes: 20 ,taux valeurs manquantes: 0.45%\n",
      "Colonne: WorkLifeBalance, Valeurs manquantes: 38 ,taux valeurs manquantes: 0.86%\n"
     ]
    }
   ],
   "source": [
    "import pandas as pd\n",
    "import os\n",
    "\n",
    "for col in df2.columns:\n",
    "    print(f\"Colonne: {col}, Valeurs manquantes: {df2[col].isna().sum()} ,taux valeurs manquantes: {round(df2[col].isna().sum()/len(df2[col])*100,2)}%\")\n",
    "\n"
   ]
  },
  {
   "cell_type": "code",
   "execution_count": 82,
   "metadata": {},
   "outputs": [
    {
     "name": "stdout",
     "output_type": "stream",
     "text": [
      "Colonnes supprimées (plus de 40.0% de valeurs manquantes) : []\n",
      "Colonne: EmployeeID, Valeurs manquantes: 0 ,taux valeurs manquantes: 0.0%\n",
      "Colonne: EnvironmentSatisfaction, Valeurs manquantes: 0 ,taux valeurs manquantes: 0.0%\n",
      "Colonne: JobSatisfaction, Valeurs manquantes: 0 ,taux valeurs manquantes: 0.0%\n",
      "Colonne: WorkLifeBalance, Valeurs manquantes: 0 ,taux valeurs manquantes: 0.0%\n"
     ]
    },
    {
     "name": "stderr",
     "output_type": "stream",
     "text": [
      "C:\\Users\\yusuf\\AppData\\Local\\Temp\\ipykernel_23260\\2484628854.py:14: FutureWarning: A value is trying to be set on a copy of a DataFrame or Series through chained assignment using an inplace method.\n",
      "The behavior will change in pandas 3.0. This inplace method will never work because the intermediate object on which we are setting values always behaves as a copy.\n",
      "\n",
      "For example, when doing 'df[col].method(value, inplace=True)', try using 'df.method({col: value}, inplace=True)' or df[col] = df[col].method(value) instead, to perform the operation inplace on the original object.\n",
      "\n",
      "\n",
      "  df1[column].fillna(mode_value, inplace=True)  # Remplace les NaN par le mode\n"
     ]
    }
   ],
   "source": [
    "import pandas as pd\n",
    "import os\n",
    "\n",
    "def Print_clean_df2(df2):\n",
    "    df2 = fill_missing_columns(df2)\n",
    "    pd.set_option('display.max_rows', None)  # Afficher toutes les lignes\n",
    "    pd.set_option('display.max_columns', None)  # Afficher toutes les colonnes\n",
    "\n",
    "    for col in df2.columns:\n",
    "        print(f\"Colonne: {col}, Valeurs manquantes: {df2[col].isna().sum()} ,taux valeurs manquantes: {round(df2[col].isna().sum()/len(df2[col])*100,2)}%\")\n",
    "    return df2\n",
    "\n",
    "df2 = Print_clean_df2(df2)\n"
   ]
  },
  {
   "cell_type": "markdown",
   "metadata": {},
   "source": [
    "Merge theses three data set"
   ]
  },
  {
   "cell_type": "code",
   "execution_count": 83,
   "metadata": {},
   "outputs": [
    {
     "name": "stdout",
     "output_type": "stream",
     "text": [
      "<class 'pandas.core.frame.DataFrame'>\n",
      "RangeIndex: 4410 entries, 0 to 4409\n",
      "Data columns (total 27 columns):\n",
      " #   Column                   Non-Null Count  Dtype  \n",
      "---  ------                   --------------  -----  \n",
      " 0   Age                      4410 non-null   int64  \n",
      " 1   Attrition                4410 non-null   int64  \n",
      " 2   BusinessTravel           4410 non-null   int64  \n",
      " 3   Department               4410 non-null   int64  \n",
      " 4   DistanceFromHome         4410 non-null   int64  \n",
      " 5   Education                4410 non-null   int64  \n",
      " 6   EducationField           4410 non-null   int64  \n",
      " 7   EmployeeID               4410 non-null   int64  \n",
      " 8   Gender                   4410 non-null   int64  \n",
      " 9   JobLevel                 4410 non-null   int64  \n",
      " 10  JobRole                  4410 non-null   int64  \n",
      " 11  MaritalStatus            4410 non-null   int64  \n",
      " 12  MonthlyIncome            4410 non-null   int64  \n",
      " 13  NumCompaniesWorked       4410 non-null   float64\n",
      " 14  PercentSalaryHike        4410 non-null   int64  \n",
      " 15  StandardHours            4410 non-null   int64  \n",
      " 16  StockOptionLevel         4410 non-null   int64  \n",
      " 17  TotalWorkingYears        4410 non-null   float64\n",
      " 18  TrainingTimesLastYear    4410 non-null   int64  \n",
      " 19  YearsAtCompany           4410 non-null   int64  \n",
      " 20  YearsSinceLastPromotion  4410 non-null   int64  \n",
      " 21  YearsWithCurrManager     4410 non-null   int64  \n",
      " 22  EnvironmentSatisfaction  4410 non-null   float64\n",
      " 23  JobSatisfaction          4410 non-null   float64\n",
      " 24  WorkLifeBalance          4410 non-null   float64\n",
      " 25  JobInvolvement           4410 non-null   int64  \n",
      " 26  PerformanceRating        4410 non-null   int64  \n",
      "dtypes: float64(5), int64(22)\n",
      "memory usage: 930.4 KB\n",
      "None\n"
     ]
    }
   ],
   "source": [
    "\n",
    "df1 = pd.merge(df1, df2, on=\"EmployeeID\", how=\"left\")\n",
    "df1 = pd.merge(df1, df3, on=\"EmployeeID\", how=\"left\")\n",
    "\n",
    "df1.to_csv(\"datasets/general_data_fusionne.csv\", index=False)\n",
    "print(df1.info())\n"
   ]
  }
 ],
 "metadata": {
  "kernelspec": {
   "display_name": "Python 3",
   "language": "python",
   "name": "python3"
  },
  "language_info": {
   "codemirror_mode": {
    "name": "ipython",
    "version": 3
   },
   "file_extension": ".py",
   "mimetype": "text/x-python",
   "name": "python",
   "nbconvert_exporter": "python",
   "pygments_lexer": "ipython3",
   "version": "3.10.1"
  }
 },
 "nbformat": 4,
 "nbformat_minor": 2
}
