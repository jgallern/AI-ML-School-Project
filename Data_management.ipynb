{
 "cells": [
  {
   "cell_type": "markdown",
   "metadata": {},
   "source": [
    "# Pre-processed Data: Managing Missing Values\n",
    "\n",
    "To handle missing values in the dataset, you can use the following Python code:"
   ]
  },
  {
   "cell_type": "markdown",
   "metadata": {},
   "source": [
    "# Data Cleaning :\n",
    "Clean useless columns"
   ]
  },
  {
   "cell_type": "code",
   "execution_count": 1,
   "metadata": {},
   "outputs": [],
   "source": [
    "def delete_columns(df):\n",
    "    delete_columns = ['EmployeeCount', 'Over18']  # Colonnes à supprimer\n",
    "    existing_columns = [col for col in delete_columns if col in df.columns]\n",
    "    return df.drop(columns=existing_columns)\n"
   ]
  },
  {
   "cell_type": "markdown",
   "metadata": {},
   "source": [
    "Transform non-numerical to numercial data :"
   ]
  },
  {
   "cell_type": "code",
   "execution_count": 2,
   "metadata": {},
   "outputs": [],
   "source": [
    "def non_numerical_columns(df):\n",
    "    df['Attrition'] = df['Attrition'].map({'Yes': 1, 'No': 0, 0:0, 1:1})\n",
    "    df['BusinessTravel'] = df['BusinessTravel'].map({'Non-Travel': 0, 'Travel_Rarely': 1, 'Travel_Frequently': 2, 0:0, 1:1, 2:2})\n",
    "    df['Department'] = df['Department'].map({'Sales': 0, 'Research & Development': 1, 'Human Resources': 2, 0:0, 1:1, 2:2})\n",
    "    df['EducationField'] = df['EducationField'].map({'Life Sciences': 0, 'Medical': 1, 'Marketing': 2, 'Technical Degree': 3, 'Human Resources': 4, 'Other': 5, 0:0, 1:1, 2:2, 3:3, 4:4, 5:5})\n",
    "    df['Gender'] = df['Gender'].map({'Female': 0, 'Male': 1, 0:0, 1:1})\n",
    "    df['JobRole'] = df['JobRole'].map({'Sales Executive': 0, 'Research Scientist': 1, 'Laboratory Technician': 2, 'Manufacturing Director': 3, 'Healthcare Representative': 4, 'Manager': 5, 'Sales Representative': 6, 'Research Director': 7, 'Human Resources': 8, 0:0, 1:1, 2:2, 3:3, 4:4, 5:5, 6:6, 7:7, 8:8})\n",
    "    df['MaritalStatus'] = df['MaritalStatus'].map({'Single': 0, 'Married': 1, 'Divorced': 2, 0:0, 1:1, 2:2})\n",
    "    return df"
   ]
  },
  {
   "cell_type": "markdown",
   "metadata": {},
   "source": [
    "Merge theses two codes"
   ]
  },
  {
   "cell_type": "code",
   "execution_count": 3,
   "metadata": {},
   "outputs": [
    {
     "name": "stdout",
     "output_type": "stream",
     "text": [
      "<class 'pandas.core.frame.DataFrame'>\n",
      "RangeIndex: 4410 entries, 0 to 4409\n",
      "Data columns (total 22 columns):\n",
      " #   Column                   Non-Null Count  Dtype  \n",
      "---  ------                   --------------  -----  \n",
      " 0   Age                      4410 non-null   int64  \n",
      " 1   Attrition                4410 non-null   int64  \n",
      " 2   BusinessTravel           4410 non-null   int64  \n",
      " 3   Department               4410 non-null   int64  \n",
      " 4   DistanceFromHome         4410 non-null   int64  \n",
      " 5   Education                4410 non-null   int64  \n",
      " 6   EducationField           4410 non-null   int64  \n",
      " 7   EmployeeID               4410 non-null   int64  \n",
      " 8   Gender                   4410 non-null   int64  \n",
      " 9   JobLevel                 4410 non-null   int64  \n",
      " 10  JobRole                  4410 non-null   int64  \n",
      " 11  MaritalStatus            4410 non-null   int64  \n",
      " 12  MonthlyIncome            4410 non-null   int64  \n",
      " 13  NumCompaniesWorked       4391 non-null   float64\n",
      " 14  PercentSalaryHike        4410 non-null   int64  \n",
      " 15  StandardHours            4410 non-null   int64  \n",
      " 16  StockOptionLevel         4410 non-null   int64  \n",
      " 17  TotalWorkingYears        4401 non-null   float64\n",
      " 18  TrainingTimesLastYear    4410 non-null   int64  \n",
      " 19  YearsAtCompany           4410 non-null   int64  \n",
      " 20  YearsSinceLastPromotion  4410 non-null   int64  \n",
      " 21  YearsWithCurrManager     4410 non-null   int64  \n",
      "dtypes: float64(2), int64(20)\n",
      "memory usage: 758.1 KB\n",
      "None\n"
     ]
    }
   ],
   "source": [
    "import pandas as pd\n",
    "\n",
    "def test_non_numerical_columns():\n",
    "    df = pd.read_csv('general_data.csv')\n",
    "    df = delete_columns(df)\n",
    "    df = non_numerical_columns(df)\n",
    "    print(df.info())\n",
    "test_non_numerical_columns()"
   ]
  },
  {
   "cell_type": "markdown",
   "metadata": {},
   "source": [
    "# Categorization data to complet whole in data : Mode \n",
    "Check the data missing"
   ]
  },
  {
   "cell_type": "code",
   "execution_count": 4,
   "metadata": {},
   "outputs": [
    {
     "name": "stdout",
     "output_type": "stream",
     "text": [
      "Colonne: Age, Valeurs manquantes: 0 ,taux valuers manquantes: 0.0%\n",
      "Colonne: Attrition, Valeurs manquantes: 0 ,taux valuers manquantes: 0.0%\n",
      "Colonne: BusinessTravel, Valeurs manquantes: 0 ,taux valuers manquantes: 0.0%\n",
      "Colonne: Department, Valeurs manquantes: 0 ,taux valuers manquantes: 0.0%\n",
      "Colonne: DistanceFromHome, Valeurs manquantes: 0 ,taux valuers manquantes: 0.0%\n",
      "Colonne: Education, Valeurs manquantes: 0 ,taux valuers manquantes: 0.0%\n",
      "Colonne: EducationField, Valeurs manquantes: 0 ,taux valuers manquantes: 0.0%\n",
      "Colonne: EmployeeCount, Valeurs manquantes: 0 ,taux valuers manquantes: 0.0%\n",
      "Colonne: EmployeeID, Valeurs manquantes: 0 ,taux valuers manquantes: 0.0%\n",
      "Colonne: Gender, Valeurs manquantes: 0 ,taux valuers manquantes: 0.0%\n",
      "Colonne: JobLevel, Valeurs manquantes: 0 ,taux valuers manquantes: 0.0%\n",
      "Colonne: JobRole, Valeurs manquantes: 0 ,taux valuers manquantes: 0.0%\n",
      "Colonne: MaritalStatus, Valeurs manquantes: 0 ,taux valuers manquantes: 0.0%\n",
      "Colonne: MonthlyIncome, Valeurs manquantes: 0 ,taux valuers manquantes: 0.0%\n",
      "Colonne: NumCompaniesWorked, Valeurs manquantes: 19 ,taux valuers manquantes: 0.43%\n",
      "Colonne: Over18, Valeurs manquantes: 0 ,taux valuers manquantes: 0.0%\n",
      "Colonne: PercentSalaryHike, Valeurs manquantes: 0 ,taux valuers manquantes: 0.0%\n",
      "Colonne: StandardHours, Valeurs manquantes: 0 ,taux valuers manquantes: 0.0%\n",
      "Colonne: StockOptionLevel, Valeurs manquantes: 0 ,taux valuers manquantes: 0.0%\n",
      "Colonne: TotalWorkingYears, Valeurs manquantes: 9 ,taux valuers manquantes: 0.2%\n",
      "Colonne: TrainingTimesLastYear, Valeurs manquantes: 0 ,taux valuers manquantes: 0.0%\n",
      "Colonne: YearsAtCompany, Valeurs manquantes: 0 ,taux valuers manquantes: 0.0%\n",
      "Colonne: YearsSinceLastPromotion, Valeurs manquantes: 0 ,taux valuers manquantes: 0.0%\n",
      "Colonne: YearsWithCurrManager, Valeurs manquantes: 0 ,taux valuers manquantes: 0.0%\n"
     ]
    }
   ],
   "source": [
    "import pandas as pd\n",
    "\n",
    "file_path = 'general_data.csv'\n",
    "data = pd.read_csv(file_path)\n",
    "\n",
    "for col in data.columns:\n",
    "    print(f\"Colonne: {col}, Valeurs manquantes: {data[col].isna().sum()} ,taux valuers manquantes: {round(data[col].isna().sum()/len(data[col])*100,2)}%\")\n",
    "\n"
   ]
  },
  {
   "cell_type": "markdown",
   "metadata": {},
   "source": [
    "Delete the columns if 40% of missing value, and filled missing value."
   ]
  },
  {
   "cell_type": "code",
   "execution_count": 5,
   "metadata": {},
   "outputs": [],
   "source": [
    "import pandas as pd\n",
    "\n",
    "def fill_missing_columns(df):\n",
    "    # Suppression des colonnes avec plus de 'threshold' valeurs manquantes\n",
    "    missing_percentage = df.isna().sum() / len(df)\n",
    "    columns_to_drop = missing_percentage[missing_percentage > 0.4].index\n",
    "    print(f\"Colonnes supprimées (plus de {0.4*100}% de valeurs manquantes) : {list(columns_to_drop)}\")\n",
    "    df = df.drop(columns=columns_to_drop)\n",
    "    \n",
    "    # Remplissage des valeurs manquantes avec le mode pour les colonnes restantes\n",
    "    for column in df.columns:\n",
    "        if df[column].isnull().sum() > 0:  # Vérifie s'il y a des valeurs manquantes\n",
    "            mode_value = df[column].mode()[0]  # Récupère le mode de la colonne\n",
    "            df[column].fillna(mode_value, inplace=True)  # Remplace les NaN par le mode  \n",
    "    return df\n"
   ]
  },
  {
   "cell_type": "markdown",
   "metadata": {},
   "source": [
    "Test"
   ]
  },
  {
   "cell_type": "code",
   "execution_count": null,
   "metadata": {},
   "outputs": [],
   "source": [
    "import pandas as pd\n",
    "\n",
    "def test_non_numerical_columns():\n",
    "    df = pd.read_csv('general_data.csv')\n",
    "    df = delete_columns(df)\n",
    "    df = non_numerical_columns(df)\n",
    "    df = fill_missing_columns(df)\n",
    "    pd.set_option('display.max_rows', None)  # Afficher toutes les lignes\n",
    "    pd.set_option('display.max_columns', None)  # Afficher toutes les colonnes\n",
    "\n",
    "    # Afficher toutes les données\n",
    "    print(df.head())\n",
    "\n",
    "test_non_numerical_columns()"
   ]
  }
 ],
 "metadata": {
  "kernelspec": {
   "display_name": "Python 3",
   "language": "python",
   "name": "python3"
  },
  "language_info": {
   "codemirror_mode": {
    "name": "ipython",
    "version": 3
   },
   "file_extension": ".py",
   "mimetype": "text/x-python",
   "name": "python",
   "nbconvert_exporter": "python",
   "pygments_lexer": "ipython3",
   "version": "3.10.1"
  }
 },
 "nbformat": 4,
 "nbformat_minor": 2
}
